{
  "nbformat": 4,
  "nbformat_minor": 0,
  "metadata": {
    "colab": {
      "name": "Sales_2019.ipynb",
      "provenance": [],
      "collapsed_sections": [],
      "authorship_tag": "ABX9TyOkwyxtusLdXWexIi8HuStt",
      "include_colab_link": true
    },
    "kernelspec": {
      "display_name": "Python 3",
      "name": "python3"
    },
    "language_info": {
      "name": "python"
    }
  },
  "cells": [
    {
      "cell_type": "markdown",
      "metadata": {
        "id": "view-in-github",
        "colab_type": "text"
      },
      "source": [
        "<a href=\"https://colab.research.google.com/github/satriani16/analisis_data/blob/main/Sales_2019.ipynb\" target=\"_parent\"><img src=\"https://colab.research.google.com/assets/colab-badge.svg\" alt=\"Open In Colab\"/></a>"
      ]
    },
    {
      "cell_type": "code",
      "metadata": {
        "colab": {
          "base_uri": "https://localhost:8080/"
        },
        "id": "1loJSDBIYVI6",
        "outputId": "00acde82-a3d0-4b5b-f62d-7889574bb681"
      },
      "source": [
        "#Connect to Google Drive\n",
        "from google.colab import drive\n",
        "drive.mount ('/content/drive')"
      ],
      "execution_count": 26,
      "outputs": [
        {
          "output_type": "stream",
          "name": "stdout",
          "text": [
            "Drive already mounted at /content/drive; to attempt to forcibly remount, call drive.mount(\"/content/drive\", force_remount=True).\n"
          ]
        }
      ]
    },
    {
      "cell_type": "code",
      "metadata": {
        "id": "BEY7J8XbhPru"
      },
      "source": [
        "import pandas as pd\n",
        "import os\n",
        "import numpy as np\n",
        "import matplotlib.pyplot as plt"
      ],
      "execution_count": 41,
      "outputs": []
    },
    {
      "cell_type": "code",
      "metadata": {
        "colab": {
          "base_uri": "https://localhost:8080/"
        },
        "id": "2bTkUk3elLT7",
        "outputId": "c0560e01-c0d1-4a94-af38-e1562311d561"
      },
      "source": [
        "for i in os.listdir('/content/drive/My Drive/sales-product-data'):\n",
        "    print(i)"
      ],
      "execution_count": 42,
      "outputs": [
        {
          "output_type": "stream",
          "name": "stdout",
          "text": [
            "Sales_June_2019.csv\n",
            "Sales_March_2019.csv\n",
            "Sales_May_2019.csv\n",
            "Sales_April_2019.csv\n",
            "Sales_December_2019.csv\n",
            "Sales_September_2019.csv\n",
            "Sales_November_2019.csv\n",
            "Sales_July_2019.csv\n",
            "Sales_August_2019.csv\n",
            "Sales_January_2019.csv\n",
            "Sales_October_2019.csv\n",
            "Sales_February_2019.csv\n"
          ]
        }
      ]
    },
    {
      "cell_type": "code",
      "metadata": {
        "id": "X8ymswZIna4E"
      },
      "source": [
        "files = [file for file in os.listdir('/content/drive/My Drive/sales-product-data')] \n",
        "all_months_data = pd.DataFrame()\n",
        "for file in files:\n",
        "    data = pd.read_csv(\"/content/drive/My Drive/sales-product-data/\" + file)\n",
        "    all_months_data = pd.concat([all_months_data, data])\n",
        "all_months_data.to_csv(\"year.csv\", index=False)"
      ],
      "execution_count": 43,
      "outputs": []
    },
    {
      "cell_type": "code",
      "metadata": {
        "colab": {
          "base_uri": "https://localhost:8080/",
          "height": 423
        },
        "id": "1BQaGIq7pEfB",
        "outputId": "e5e0b328-c224-40bf-f9c3-7444c4437cc9"
      },
      "source": [
        "sales_data = pd.read_csv('year.csv')\n",
        "sales_data"
      ],
      "execution_count": 44,
      "outputs": [
        {
          "output_type": "execute_result",
          "data": {
            "text/html": [
              "<div>\n",
              "<style scoped>\n",
              "    .dataframe tbody tr th:only-of-type {\n",
              "        vertical-align: middle;\n",
              "    }\n",
              "\n",
              "    .dataframe tbody tr th {\n",
              "        vertical-align: top;\n",
              "    }\n",
              "\n",
              "    .dataframe thead th {\n",
              "        text-align: right;\n",
              "    }\n",
              "</style>\n",
              "<table border=\"1\" class=\"dataframe\">\n",
              "  <thead>\n",
              "    <tr style=\"text-align: right;\">\n",
              "      <th></th>\n",
              "      <th>Order ID</th>\n",
              "      <th>Product</th>\n",
              "      <th>Quantity Ordered</th>\n",
              "      <th>Price Each</th>\n",
              "      <th>Order Date</th>\n",
              "      <th>Purchase Address</th>\n",
              "    </tr>\n",
              "  </thead>\n",
              "  <tbody>\n",
              "    <tr>\n",
              "      <th>0</th>\n",
              "      <td>209921</td>\n",
              "      <td>USB-C Charging Cable</td>\n",
              "      <td>1</td>\n",
              "      <td>11.95</td>\n",
              "      <td>06/23/19 19:34</td>\n",
              "      <td>950 Walnut St, Portland, ME 04101</td>\n",
              "    </tr>\n",
              "    <tr>\n",
              "      <th>1</th>\n",
              "      <td>209922</td>\n",
              "      <td>Macbook Pro Laptop</td>\n",
              "      <td>1</td>\n",
              "      <td>1700.0</td>\n",
              "      <td>06/30/19 10:05</td>\n",
              "      <td>80 4th St, San Francisco, CA 94016</td>\n",
              "    </tr>\n",
              "    <tr>\n",
              "      <th>2</th>\n",
              "      <td>209923</td>\n",
              "      <td>ThinkPad Laptop</td>\n",
              "      <td>1</td>\n",
              "      <td>999.99</td>\n",
              "      <td>06/24/19 20:18</td>\n",
              "      <td>402 Jackson St, Los Angeles, CA 90001</td>\n",
              "    </tr>\n",
              "    <tr>\n",
              "      <th>3</th>\n",
              "      <td>209924</td>\n",
              "      <td>27in FHD Monitor</td>\n",
              "      <td>1</td>\n",
              "      <td>149.99</td>\n",
              "      <td>06/05/19 10:21</td>\n",
              "      <td>560 10th St, Seattle, WA 98101</td>\n",
              "    </tr>\n",
              "    <tr>\n",
              "      <th>4</th>\n",
              "      <td>209925</td>\n",
              "      <td>Bose SoundSport Headphones</td>\n",
              "      <td>1</td>\n",
              "      <td>99.99</td>\n",
              "      <td>06/25/19 18:58</td>\n",
              "      <td>545 2nd St, San Francisco, CA 94016</td>\n",
              "    </tr>\n",
              "    <tr>\n",
              "      <th>...</th>\n",
              "      <td>...</td>\n",
              "      <td>...</td>\n",
              "      <td>...</td>\n",
              "      <td>...</td>\n",
              "      <td>...</td>\n",
              "      <td>...</td>\n",
              "    </tr>\n",
              "    <tr>\n",
              "      <th>186845</th>\n",
              "      <td>162004</td>\n",
              "      <td>Apple Airpods Headphones</td>\n",
              "      <td>1</td>\n",
              "      <td>150</td>\n",
              "      <td>02/12/19 22:02</td>\n",
              "      <td>227 Church St, San Francisco, CA 94016</td>\n",
              "    </tr>\n",
              "    <tr>\n",
              "      <th>186846</th>\n",
              "      <td>162005</td>\n",
              "      <td>AAA Batteries (4-pack)</td>\n",
              "      <td>2</td>\n",
              "      <td>2.99</td>\n",
              "      <td>02/04/19 20:44</td>\n",
              "      <td>417 Jefferson St, Los Angeles, CA 90001</td>\n",
              "    </tr>\n",
              "    <tr>\n",
              "      <th>186847</th>\n",
              "      <td>162006</td>\n",
              "      <td>USB-C Charging Cable</td>\n",
              "      <td>1</td>\n",
              "      <td>11.95</td>\n",
              "      <td>02/24/19 06:31</td>\n",
              "      <td>498 8th St, Atlanta, GA 30301</td>\n",
              "    </tr>\n",
              "    <tr>\n",
              "      <th>186848</th>\n",
              "      <td>162007</td>\n",
              "      <td>USB-C Charging Cable</td>\n",
              "      <td>1</td>\n",
              "      <td>11.95</td>\n",
              "      <td>02/24/19 19:09</td>\n",
              "      <td>715 7th St, Dallas, TX 75001</td>\n",
              "    </tr>\n",
              "    <tr>\n",
              "      <th>186849</th>\n",
              "      <td>162008</td>\n",
              "      <td>27in FHD Monitor</td>\n",
              "      <td>1</td>\n",
              "      <td>149.99</td>\n",
              "      <td>02/26/19 17:15</td>\n",
              "      <td>677 West St, Los Angeles, CA 90001</td>\n",
              "    </tr>\n",
              "  </tbody>\n",
              "</table>\n",
              "<p>186850 rows × 6 columns</p>\n",
              "</div>"
            ],
            "text/plain": [
              "       Order ID  ...                         Purchase Address\n",
              "0        209921  ...        950 Walnut St, Portland, ME 04101\n",
              "1        209922  ...       80 4th St, San Francisco, CA 94016\n",
              "2        209923  ...    402 Jackson St, Los Angeles, CA 90001\n",
              "3        209924  ...           560 10th St, Seattle, WA 98101\n",
              "4        209925  ...      545 2nd St, San Francisco, CA 94016\n",
              "...         ...  ...                                      ...\n",
              "186845   162004  ...   227 Church St, San Francisco, CA 94016\n",
              "186846   162005  ...  417 Jefferson St, Los Angeles, CA 90001\n",
              "186847   162006  ...            498 8th St, Atlanta, GA 30301\n",
              "186848   162007  ...             715 7th St, Dallas, TX 75001\n",
              "186849   162008  ...       677 West St, Los Angeles, CA 90001\n",
              "\n",
              "[186850 rows x 6 columns]"
            ]
          },
          "metadata": {},
          "execution_count": 44
        }
      ]
    },
    {
      "cell_type": "code",
      "metadata": {
        "colab": {
          "base_uri": "https://localhost:8080/"
        },
        "id": "mYuVFd1hpiib",
        "outputId": "1dff2d90-10ea-48af-baba-2edd84b9562b"
      },
      "source": [
        "sales_data.info()"
      ],
      "execution_count": 45,
      "outputs": [
        {
          "output_type": "stream",
          "name": "stdout",
          "text": [
            "<class 'pandas.core.frame.DataFrame'>\n",
            "RangeIndex: 186850 entries, 0 to 186849\n",
            "Data columns (total 6 columns):\n",
            " #   Column            Non-Null Count   Dtype \n",
            "---  ------            --------------   ----- \n",
            " 0   Order ID          186305 non-null  object\n",
            " 1   Product           186305 non-null  object\n",
            " 2   Quantity Ordered  186305 non-null  object\n",
            " 3   Price Each        186305 non-null  object\n",
            " 4   Order Date        186305 non-null  object\n",
            " 5   Purchase Address  186305 non-null  object\n",
            "dtypes: object(6)\n",
            "memory usage: 8.6+ MB\n"
          ]
        }
      ]
    },
    {
      "cell_type": "code",
      "metadata": {
        "colab": {
          "base_uri": "https://localhost:8080/"
        },
        "id": "zuwHWJqLqL6r",
        "outputId": "6025af08-c8c8-4612-e5e8-8435ff758031"
      },
      "source": [
        "categorical = sales_data.select_dtypes(['category', 'object']).columns\n",
        "for col in categorical:\n",
        "    print('{} : {} unique value(s)'.format(col, sales_data[col].nunique()))"
      ],
      "execution_count": 46,
      "outputs": [
        {
          "output_type": "stream",
          "name": "stdout",
          "text": [
            "Order ID : 178438 unique value(s)\n",
            "Product : 20 unique value(s)\n",
            "Quantity Ordered : 10 unique value(s)\n",
            "Price Each : 24 unique value(s)\n",
            "Order Date : 142396 unique value(s)\n",
            "Purchase Address : 140788 unique value(s)\n"
          ]
        }
      ]
    },
    {
      "cell_type": "code",
      "metadata": {
        "colab": {
          "base_uri": "https://localhost:8080/"
        },
        "id": "s-YPiZZOqaQm",
        "outputId": "4010bb91-8c6a-4446-8b06-c5ee0787c19d"
      },
      "source": [
        "missing_values_count = sales_data.isnull().sum()\n",
        "missing_values_count[0:10]"
      ],
      "execution_count": 47,
      "outputs": [
        {
          "output_type": "execute_result",
          "data": {
            "text/plain": [
              "Order ID            545\n",
              "Product             545\n",
              "Quantity Ordered    545\n",
              "Price Each          545\n",
              "Order Date          545\n",
              "Purchase Address    545\n",
              "dtype: int64"
            ]
          },
          "metadata": {},
          "execution_count": 47
        }
      ]
    },
    {
      "cell_type": "code",
      "metadata": {
        "colab": {
          "base_uri": "https://localhost:8080/"
        },
        "id": "ADlZRUjzqy4L",
        "outputId": "736f9155-cd1c-471b-caf7-e93b8eff5278"
      },
      "source": [
        "total_cells = np.product(sales_data.shape)\n",
        "total_missing = missing_values_count.sum()\n",
        "percent_missing = (total_missing / total_cells) * 100\n",
        "print(percent_missing)"
      ],
      "execution_count": 48,
      "outputs": [
        {
          "output_type": "stream",
          "name": "stdout",
          "text": [
            "0.29167781643029167\n"
          ]
        }
      ]
    },
    {
      "cell_type": "code",
      "metadata": {
        "colab": {
          "base_uri": "https://localhost:8080/",
          "height": 423
        },
        "id": "45GH4ltzrd7a",
        "outputId": "aae578b5-7886-4ac5-b230-3befea639922"
      },
      "source": [
        "sales_data = sales_data.dropna(how='all')\n",
        "\"NaN Value:\"\n",
        "sales_data[sales_data.isna().any(axis=1)]\n",
        "\"Clean Future Warnings:\"\n",
        "sales_data = sales_data[sales_data['Order Date'].str[0:2] != 'Or']\n",
        "sales_data"
      ],
      "execution_count": 49,
      "outputs": [
        {
          "output_type": "execute_result",
          "data": {
            "text/html": [
              "<div>\n",
              "<style scoped>\n",
              "    .dataframe tbody tr th:only-of-type {\n",
              "        vertical-align: middle;\n",
              "    }\n",
              "\n",
              "    .dataframe tbody tr th {\n",
              "        vertical-align: top;\n",
              "    }\n",
              "\n",
              "    .dataframe thead th {\n",
              "        text-align: right;\n",
              "    }\n",
              "</style>\n",
              "<table border=\"1\" class=\"dataframe\">\n",
              "  <thead>\n",
              "    <tr style=\"text-align: right;\">\n",
              "      <th></th>\n",
              "      <th>Order ID</th>\n",
              "      <th>Product</th>\n",
              "      <th>Quantity Ordered</th>\n",
              "      <th>Price Each</th>\n",
              "      <th>Order Date</th>\n",
              "      <th>Purchase Address</th>\n",
              "    </tr>\n",
              "  </thead>\n",
              "  <tbody>\n",
              "    <tr>\n",
              "      <th>0</th>\n",
              "      <td>209921</td>\n",
              "      <td>USB-C Charging Cable</td>\n",
              "      <td>1</td>\n",
              "      <td>11.95</td>\n",
              "      <td>06/23/19 19:34</td>\n",
              "      <td>950 Walnut St, Portland, ME 04101</td>\n",
              "    </tr>\n",
              "    <tr>\n",
              "      <th>1</th>\n",
              "      <td>209922</td>\n",
              "      <td>Macbook Pro Laptop</td>\n",
              "      <td>1</td>\n",
              "      <td>1700.0</td>\n",
              "      <td>06/30/19 10:05</td>\n",
              "      <td>80 4th St, San Francisco, CA 94016</td>\n",
              "    </tr>\n",
              "    <tr>\n",
              "      <th>2</th>\n",
              "      <td>209923</td>\n",
              "      <td>ThinkPad Laptop</td>\n",
              "      <td>1</td>\n",
              "      <td>999.99</td>\n",
              "      <td>06/24/19 20:18</td>\n",
              "      <td>402 Jackson St, Los Angeles, CA 90001</td>\n",
              "    </tr>\n",
              "    <tr>\n",
              "      <th>3</th>\n",
              "      <td>209924</td>\n",
              "      <td>27in FHD Monitor</td>\n",
              "      <td>1</td>\n",
              "      <td>149.99</td>\n",
              "      <td>06/05/19 10:21</td>\n",
              "      <td>560 10th St, Seattle, WA 98101</td>\n",
              "    </tr>\n",
              "    <tr>\n",
              "      <th>4</th>\n",
              "      <td>209925</td>\n",
              "      <td>Bose SoundSport Headphones</td>\n",
              "      <td>1</td>\n",
              "      <td>99.99</td>\n",
              "      <td>06/25/19 18:58</td>\n",
              "      <td>545 2nd St, San Francisco, CA 94016</td>\n",
              "    </tr>\n",
              "    <tr>\n",
              "      <th>...</th>\n",
              "      <td>...</td>\n",
              "      <td>...</td>\n",
              "      <td>...</td>\n",
              "      <td>...</td>\n",
              "      <td>...</td>\n",
              "      <td>...</td>\n",
              "    </tr>\n",
              "    <tr>\n",
              "      <th>186845</th>\n",
              "      <td>162004</td>\n",
              "      <td>Apple Airpods Headphones</td>\n",
              "      <td>1</td>\n",
              "      <td>150</td>\n",
              "      <td>02/12/19 22:02</td>\n",
              "      <td>227 Church St, San Francisco, CA 94016</td>\n",
              "    </tr>\n",
              "    <tr>\n",
              "      <th>186846</th>\n",
              "      <td>162005</td>\n",
              "      <td>AAA Batteries (4-pack)</td>\n",
              "      <td>2</td>\n",
              "      <td>2.99</td>\n",
              "      <td>02/04/19 20:44</td>\n",
              "      <td>417 Jefferson St, Los Angeles, CA 90001</td>\n",
              "    </tr>\n",
              "    <tr>\n",
              "      <th>186847</th>\n",
              "      <td>162006</td>\n",
              "      <td>USB-C Charging Cable</td>\n",
              "      <td>1</td>\n",
              "      <td>11.95</td>\n",
              "      <td>02/24/19 06:31</td>\n",
              "      <td>498 8th St, Atlanta, GA 30301</td>\n",
              "    </tr>\n",
              "    <tr>\n",
              "      <th>186848</th>\n",
              "      <td>162007</td>\n",
              "      <td>USB-C Charging Cable</td>\n",
              "      <td>1</td>\n",
              "      <td>11.95</td>\n",
              "      <td>02/24/19 19:09</td>\n",
              "      <td>715 7th St, Dallas, TX 75001</td>\n",
              "    </tr>\n",
              "    <tr>\n",
              "      <th>186849</th>\n",
              "      <td>162008</td>\n",
              "      <td>27in FHD Monitor</td>\n",
              "      <td>1</td>\n",
              "      <td>149.99</td>\n",
              "      <td>02/26/19 17:15</td>\n",
              "      <td>677 West St, Los Angeles, CA 90001</td>\n",
              "    </tr>\n",
              "  </tbody>\n",
              "</table>\n",
              "<p>185950 rows × 6 columns</p>\n",
              "</div>"
            ],
            "text/plain": [
              "       Order ID  ...                         Purchase Address\n",
              "0        209921  ...        950 Walnut St, Portland, ME 04101\n",
              "1        209922  ...       80 4th St, San Francisco, CA 94016\n",
              "2        209923  ...    402 Jackson St, Los Angeles, CA 90001\n",
              "3        209924  ...           560 10th St, Seattle, WA 98101\n",
              "4        209925  ...      545 2nd St, San Francisco, CA 94016\n",
              "...         ...  ...                                      ...\n",
              "186845   162004  ...   227 Church St, San Francisco, CA 94016\n",
              "186846   162005  ...  417 Jefferson St, Los Angeles, CA 90001\n",
              "186847   162006  ...            498 8th St, Atlanta, GA 30301\n",
              "186848   162007  ...             715 7th St, Dallas, TX 75001\n",
              "186849   162008  ...       677 West St, Los Angeles, CA 90001\n",
              "\n",
              "[185950 rows x 6 columns]"
            ]
          },
          "metadata": {},
          "execution_count": 49
        }
      ]
    },
    {
      "cell_type": "code",
      "metadata": {
        "colab": {
          "base_uri": "https://localhost:8080/"
        },
        "id": "OxO3B-WkrnLa",
        "outputId": "1667065b-b5a1-42a6-bbb9-c8810709a0b6"
      },
      "source": [
        "sales_data['Quantity Ordered'], sales_data['Price Each'] = sales_data['Quantity Ordered'].astype('int64'), sales_data['Price Each'].astype('float')\n",
        "sales_data.info()"
      ],
      "execution_count": 50,
      "outputs": [
        {
          "output_type": "stream",
          "name": "stdout",
          "text": [
            "<class 'pandas.core.frame.DataFrame'>\n",
            "Int64Index: 185950 entries, 0 to 186849\n",
            "Data columns (total 6 columns):\n",
            " #   Column            Non-Null Count   Dtype  \n",
            "---  ------            --------------   -----  \n",
            " 0   Order ID          185950 non-null  object \n",
            " 1   Product           185950 non-null  object \n",
            " 2   Quantity Ordered  185950 non-null  int64  \n",
            " 3   Price Each        185950 non-null  float64\n",
            " 4   Order Date        185950 non-null  object \n",
            " 5   Purchase Address  185950 non-null  object \n",
            "dtypes: float64(1), int64(1), object(4)\n",
            "memory usage: 9.9+ MB\n"
          ]
        }
      ]
    },
    {
      "cell_type": "code",
      "metadata": {
        "colab": {
          "base_uri": "https://localhost:8080/",
          "height": 423
        },
        "id": "hQ0GIk0wr62a",
        "outputId": "828da906-f738-426f-f8e0-ccb0fe186174"
      },
      "source": [
        "sales_data['Order Date'] = pd.to_datetime(sales_data['Order Date'])\n",
        "sales_data"
      ],
      "execution_count": 51,
      "outputs": [
        {
          "output_type": "execute_result",
          "data": {
            "text/html": [
              "<div>\n",
              "<style scoped>\n",
              "    .dataframe tbody tr th:only-of-type {\n",
              "        vertical-align: middle;\n",
              "    }\n",
              "\n",
              "    .dataframe tbody tr th {\n",
              "        vertical-align: top;\n",
              "    }\n",
              "\n",
              "    .dataframe thead th {\n",
              "        text-align: right;\n",
              "    }\n",
              "</style>\n",
              "<table border=\"1\" class=\"dataframe\">\n",
              "  <thead>\n",
              "    <tr style=\"text-align: right;\">\n",
              "      <th></th>\n",
              "      <th>Order ID</th>\n",
              "      <th>Product</th>\n",
              "      <th>Quantity Ordered</th>\n",
              "      <th>Price Each</th>\n",
              "      <th>Order Date</th>\n",
              "      <th>Purchase Address</th>\n",
              "    </tr>\n",
              "  </thead>\n",
              "  <tbody>\n",
              "    <tr>\n",
              "      <th>0</th>\n",
              "      <td>209921</td>\n",
              "      <td>USB-C Charging Cable</td>\n",
              "      <td>1</td>\n",
              "      <td>11.95</td>\n",
              "      <td>2019-06-23 19:34:00</td>\n",
              "      <td>950 Walnut St, Portland, ME 04101</td>\n",
              "    </tr>\n",
              "    <tr>\n",
              "      <th>1</th>\n",
              "      <td>209922</td>\n",
              "      <td>Macbook Pro Laptop</td>\n",
              "      <td>1</td>\n",
              "      <td>1700.00</td>\n",
              "      <td>2019-06-30 10:05:00</td>\n",
              "      <td>80 4th St, San Francisco, CA 94016</td>\n",
              "    </tr>\n",
              "    <tr>\n",
              "      <th>2</th>\n",
              "      <td>209923</td>\n",
              "      <td>ThinkPad Laptop</td>\n",
              "      <td>1</td>\n",
              "      <td>999.99</td>\n",
              "      <td>2019-06-24 20:18:00</td>\n",
              "      <td>402 Jackson St, Los Angeles, CA 90001</td>\n",
              "    </tr>\n",
              "    <tr>\n",
              "      <th>3</th>\n",
              "      <td>209924</td>\n",
              "      <td>27in FHD Monitor</td>\n",
              "      <td>1</td>\n",
              "      <td>149.99</td>\n",
              "      <td>2019-06-05 10:21:00</td>\n",
              "      <td>560 10th St, Seattle, WA 98101</td>\n",
              "    </tr>\n",
              "    <tr>\n",
              "      <th>4</th>\n",
              "      <td>209925</td>\n",
              "      <td>Bose SoundSport Headphones</td>\n",
              "      <td>1</td>\n",
              "      <td>99.99</td>\n",
              "      <td>2019-06-25 18:58:00</td>\n",
              "      <td>545 2nd St, San Francisco, CA 94016</td>\n",
              "    </tr>\n",
              "    <tr>\n",
              "      <th>...</th>\n",
              "      <td>...</td>\n",
              "      <td>...</td>\n",
              "      <td>...</td>\n",
              "      <td>...</td>\n",
              "      <td>...</td>\n",
              "      <td>...</td>\n",
              "    </tr>\n",
              "    <tr>\n",
              "      <th>186845</th>\n",
              "      <td>162004</td>\n",
              "      <td>Apple Airpods Headphones</td>\n",
              "      <td>1</td>\n",
              "      <td>150.00</td>\n",
              "      <td>2019-02-12 22:02:00</td>\n",
              "      <td>227 Church St, San Francisco, CA 94016</td>\n",
              "    </tr>\n",
              "    <tr>\n",
              "      <th>186846</th>\n",
              "      <td>162005</td>\n",
              "      <td>AAA Batteries (4-pack)</td>\n",
              "      <td>2</td>\n",
              "      <td>2.99</td>\n",
              "      <td>2019-02-04 20:44:00</td>\n",
              "      <td>417 Jefferson St, Los Angeles, CA 90001</td>\n",
              "    </tr>\n",
              "    <tr>\n",
              "      <th>186847</th>\n",
              "      <td>162006</td>\n",
              "      <td>USB-C Charging Cable</td>\n",
              "      <td>1</td>\n",
              "      <td>11.95</td>\n",
              "      <td>2019-02-24 06:31:00</td>\n",
              "      <td>498 8th St, Atlanta, GA 30301</td>\n",
              "    </tr>\n",
              "    <tr>\n",
              "      <th>186848</th>\n",
              "      <td>162007</td>\n",
              "      <td>USB-C Charging Cable</td>\n",
              "      <td>1</td>\n",
              "      <td>11.95</td>\n",
              "      <td>2019-02-24 19:09:00</td>\n",
              "      <td>715 7th St, Dallas, TX 75001</td>\n",
              "    </tr>\n",
              "    <tr>\n",
              "      <th>186849</th>\n",
              "      <td>162008</td>\n",
              "      <td>27in FHD Monitor</td>\n",
              "      <td>1</td>\n",
              "      <td>149.99</td>\n",
              "      <td>2019-02-26 17:15:00</td>\n",
              "      <td>677 West St, Los Angeles, CA 90001</td>\n",
              "    </tr>\n",
              "  </tbody>\n",
              "</table>\n",
              "<p>185950 rows × 6 columns</p>\n",
              "</div>"
            ],
            "text/plain": [
              "       Order ID  ...                         Purchase Address\n",
              "0        209921  ...        950 Walnut St, Portland, ME 04101\n",
              "1        209922  ...       80 4th St, San Francisco, CA 94016\n",
              "2        209923  ...    402 Jackson St, Los Angeles, CA 90001\n",
              "3        209924  ...           560 10th St, Seattle, WA 98101\n",
              "4        209925  ...      545 2nd St, San Francisco, CA 94016\n",
              "...         ...  ...                                      ...\n",
              "186845   162004  ...   227 Church St, San Francisco, CA 94016\n",
              "186846   162005  ...  417 Jefferson St, Los Angeles, CA 90001\n",
              "186847   162006  ...            498 8th St, Atlanta, GA 30301\n",
              "186848   162007  ...             715 7th St, Dallas, TX 75001\n",
              "186849   162008  ...       677 West St, Los Angeles, CA 90001\n",
              "\n",
              "[185950 rows x 6 columns]"
            ]
          },
          "metadata": {},
          "execution_count": 51
        }
      ]
    },
    {
      "cell_type": "code",
      "metadata": {
        "id": "R-g2v6YGZQPg"
      },
      "source": [
        "def augment_data(data):\n",
        "    def get_city(address):\n",
        "        return address.split(',')[1]\n",
        "    def get_state(address):\n",
        "        return address.split(',')[2].split(' ')[1]\n",
        "    data['Year'] = data['Order Date'].dt.year\n",
        "    data['Month'] = data['Order Date'].dt.month\n",
        "    data['Hour'] = data['Order Date'].dt.hour\n",
        "    data['Minute'] = data['Order Date'].dt.minute \n",
        "    data['Sales'] = data['Quantity Ordered'] * data['Price Each'] \n",
        "    data['Cities'] = data['Purchase Address'].apply(lambda x: f\"{get_city(x)} ({get_state(x)})\") \n",
        "    return data"
      ],
      "execution_count": 52,
      "outputs": []
    },
    {
      "cell_type": "code",
      "metadata": {
        "colab": {
          "base_uri": "https://localhost:8080/",
          "height": 423
        },
        "id": "_EGqpS9LZzt9",
        "outputId": "f14a5d80-b133-4a59-b8d6-ff7669625f78"
      },
      "source": [
        "sales_data = augment_data(sales_data)\n",
        "sales_data"
      ],
      "execution_count": 53,
      "outputs": [
        {
          "output_type": "execute_result",
          "data": {
            "text/html": [
              "<div>\n",
              "<style scoped>\n",
              "    .dataframe tbody tr th:only-of-type {\n",
              "        vertical-align: middle;\n",
              "    }\n",
              "\n",
              "    .dataframe tbody tr th {\n",
              "        vertical-align: top;\n",
              "    }\n",
              "\n",
              "    .dataframe thead th {\n",
              "        text-align: right;\n",
              "    }\n",
              "</style>\n",
              "<table border=\"1\" class=\"dataframe\">\n",
              "  <thead>\n",
              "    <tr style=\"text-align: right;\">\n",
              "      <th></th>\n",
              "      <th>Order ID</th>\n",
              "      <th>Product</th>\n",
              "      <th>Quantity Ordered</th>\n",
              "      <th>Price Each</th>\n",
              "      <th>Order Date</th>\n",
              "      <th>Purchase Address</th>\n",
              "      <th>Year</th>\n",
              "      <th>Month</th>\n",
              "      <th>Hour</th>\n",
              "      <th>Minute</th>\n",
              "      <th>Sales</th>\n",
              "      <th>Cities</th>\n",
              "    </tr>\n",
              "  </thead>\n",
              "  <tbody>\n",
              "    <tr>\n",
              "      <th>0</th>\n",
              "      <td>209921</td>\n",
              "      <td>USB-C Charging Cable</td>\n",
              "      <td>1</td>\n",
              "      <td>11.95</td>\n",
              "      <td>2019-06-23 19:34:00</td>\n",
              "      <td>950 Walnut St, Portland, ME 04101</td>\n",
              "      <td>2019</td>\n",
              "      <td>6</td>\n",
              "      <td>19</td>\n",
              "      <td>34</td>\n",
              "      <td>11.95</td>\n",
              "      <td>Portland (ME)</td>\n",
              "    </tr>\n",
              "    <tr>\n",
              "      <th>1</th>\n",
              "      <td>209922</td>\n",
              "      <td>Macbook Pro Laptop</td>\n",
              "      <td>1</td>\n",
              "      <td>1700.00</td>\n",
              "      <td>2019-06-30 10:05:00</td>\n",
              "      <td>80 4th St, San Francisco, CA 94016</td>\n",
              "      <td>2019</td>\n",
              "      <td>6</td>\n",
              "      <td>10</td>\n",
              "      <td>5</td>\n",
              "      <td>1700.00</td>\n",
              "      <td>San Francisco (CA)</td>\n",
              "    </tr>\n",
              "    <tr>\n",
              "      <th>2</th>\n",
              "      <td>209923</td>\n",
              "      <td>ThinkPad Laptop</td>\n",
              "      <td>1</td>\n",
              "      <td>999.99</td>\n",
              "      <td>2019-06-24 20:18:00</td>\n",
              "      <td>402 Jackson St, Los Angeles, CA 90001</td>\n",
              "      <td>2019</td>\n",
              "      <td>6</td>\n",
              "      <td>20</td>\n",
              "      <td>18</td>\n",
              "      <td>999.99</td>\n",
              "      <td>Los Angeles (CA)</td>\n",
              "    </tr>\n",
              "    <tr>\n",
              "      <th>3</th>\n",
              "      <td>209924</td>\n",
              "      <td>27in FHD Monitor</td>\n",
              "      <td>1</td>\n",
              "      <td>149.99</td>\n",
              "      <td>2019-06-05 10:21:00</td>\n",
              "      <td>560 10th St, Seattle, WA 98101</td>\n",
              "      <td>2019</td>\n",
              "      <td>6</td>\n",
              "      <td>10</td>\n",
              "      <td>21</td>\n",
              "      <td>149.99</td>\n",
              "      <td>Seattle (WA)</td>\n",
              "    </tr>\n",
              "    <tr>\n",
              "      <th>4</th>\n",
              "      <td>209925</td>\n",
              "      <td>Bose SoundSport Headphones</td>\n",
              "      <td>1</td>\n",
              "      <td>99.99</td>\n",
              "      <td>2019-06-25 18:58:00</td>\n",
              "      <td>545 2nd St, San Francisco, CA 94016</td>\n",
              "      <td>2019</td>\n",
              "      <td>6</td>\n",
              "      <td>18</td>\n",
              "      <td>58</td>\n",
              "      <td>99.99</td>\n",
              "      <td>San Francisco (CA)</td>\n",
              "    </tr>\n",
              "    <tr>\n",
              "      <th>...</th>\n",
              "      <td>...</td>\n",
              "      <td>...</td>\n",
              "      <td>...</td>\n",
              "      <td>...</td>\n",
              "      <td>...</td>\n",
              "      <td>...</td>\n",
              "      <td>...</td>\n",
              "      <td>...</td>\n",
              "      <td>...</td>\n",
              "      <td>...</td>\n",
              "      <td>...</td>\n",
              "      <td>...</td>\n",
              "    </tr>\n",
              "    <tr>\n",
              "      <th>186845</th>\n",
              "      <td>162004</td>\n",
              "      <td>Apple Airpods Headphones</td>\n",
              "      <td>1</td>\n",
              "      <td>150.00</td>\n",
              "      <td>2019-02-12 22:02:00</td>\n",
              "      <td>227 Church St, San Francisco, CA 94016</td>\n",
              "      <td>2019</td>\n",
              "      <td>2</td>\n",
              "      <td>22</td>\n",
              "      <td>2</td>\n",
              "      <td>150.00</td>\n",
              "      <td>San Francisco (CA)</td>\n",
              "    </tr>\n",
              "    <tr>\n",
              "      <th>186846</th>\n",
              "      <td>162005</td>\n",
              "      <td>AAA Batteries (4-pack)</td>\n",
              "      <td>2</td>\n",
              "      <td>2.99</td>\n",
              "      <td>2019-02-04 20:44:00</td>\n",
              "      <td>417 Jefferson St, Los Angeles, CA 90001</td>\n",
              "      <td>2019</td>\n",
              "      <td>2</td>\n",
              "      <td>20</td>\n",
              "      <td>44</td>\n",
              "      <td>5.98</td>\n",
              "      <td>Los Angeles (CA)</td>\n",
              "    </tr>\n",
              "    <tr>\n",
              "      <th>186847</th>\n",
              "      <td>162006</td>\n",
              "      <td>USB-C Charging Cable</td>\n",
              "      <td>1</td>\n",
              "      <td>11.95</td>\n",
              "      <td>2019-02-24 06:31:00</td>\n",
              "      <td>498 8th St, Atlanta, GA 30301</td>\n",
              "      <td>2019</td>\n",
              "      <td>2</td>\n",
              "      <td>6</td>\n",
              "      <td>31</td>\n",
              "      <td>11.95</td>\n",
              "      <td>Atlanta (GA)</td>\n",
              "    </tr>\n",
              "    <tr>\n",
              "      <th>186848</th>\n",
              "      <td>162007</td>\n",
              "      <td>USB-C Charging Cable</td>\n",
              "      <td>1</td>\n",
              "      <td>11.95</td>\n",
              "      <td>2019-02-24 19:09:00</td>\n",
              "      <td>715 7th St, Dallas, TX 75001</td>\n",
              "      <td>2019</td>\n",
              "      <td>2</td>\n",
              "      <td>19</td>\n",
              "      <td>9</td>\n",
              "      <td>11.95</td>\n",
              "      <td>Dallas (TX)</td>\n",
              "    </tr>\n",
              "    <tr>\n",
              "      <th>186849</th>\n",
              "      <td>162008</td>\n",
              "      <td>27in FHD Monitor</td>\n",
              "      <td>1</td>\n",
              "      <td>149.99</td>\n",
              "      <td>2019-02-26 17:15:00</td>\n",
              "      <td>677 West St, Los Angeles, CA 90001</td>\n",
              "      <td>2019</td>\n",
              "      <td>2</td>\n",
              "      <td>17</td>\n",
              "      <td>15</td>\n",
              "      <td>149.99</td>\n",
              "      <td>Los Angeles (CA)</td>\n",
              "    </tr>\n",
              "  </tbody>\n",
              "</table>\n",
              "<p>185950 rows × 12 columns</p>\n",
              "</div>"
            ],
            "text/plain": [
              "       Order ID                     Product  ...    Sales               Cities\n",
              "0        209921        USB-C Charging Cable  ...    11.95        Portland (ME)\n",
              "1        209922          Macbook Pro Laptop  ...  1700.00   San Francisco (CA)\n",
              "2        209923             ThinkPad Laptop  ...   999.99     Los Angeles (CA)\n",
              "3        209924            27in FHD Monitor  ...   149.99         Seattle (WA)\n",
              "4        209925  Bose SoundSport Headphones  ...    99.99   San Francisco (CA)\n",
              "...         ...                         ...  ...      ...                  ...\n",
              "186845   162004    Apple Airpods Headphones  ...   150.00   San Francisco (CA)\n",
              "186846   162005      AAA Batteries (4-pack)  ...     5.98     Los Angeles (CA)\n",
              "186847   162006        USB-C Charging Cable  ...    11.95         Atlanta (GA)\n",
              "186848   162007        USB-C Charging Cable  ...    11.95          Dallas (TX)\n",
              "186849   162008            27in FHD Monitor  ...   149.99     Los Angeles (CA)\n",
              "\n",
              "[185950 rows x 12 columns]"
            ]
          },
          "metadata": {},
          "execution_count": 53
        }
      ]
    },
    {
      "cell_type": "markdown",
      "metadata": {
        "id": "OCOP8_boaIfg"
      },
      "source": [
        "**What was the best month for sales? How much was earned that month?**"
      ]
    },
    {
      "cell_type": "code",
      "metadata": {
        "colab": {
          "base_uri": "https://localhost:8080/",
          "height": 350
        },
        "id": "6Di5H3ZYgYYI",
        "outputId": "d4bbde4d-af80-4809-d4fa-87a5bf5f93b6"
      },
      "source": [
        "sum_of_month_and_earned = sales_data.groupby('Month').sum().astype('int')\n",
        "plt.figure(figsize=(15, 5)) \n",
        "sns.barplot(\n",
        "    x=sum_of_month_and_earned.index, \n",
        "    y=sum_of_month_and_earned['Sales'], \n",
        "    data=sum_of_month_and_earned, palette='deep'\n",
        ")\n",
        "plt.title('Penjualan Tahun 2019 (Perbulan)', \n",
        "          fontname='monospace', weight='bold'\n",
        ")\n",
        "plt.xlabel('Bulan')\n",
        "plt.ylabel('Penjualan dalam Dolar ($)');"
      ],
      "execution_count": 54,
      "outputs": [
        {
          "output_type": "display_data",
          "data": {
            "image/png": "[encoded data removed]",
            "text/plain": [
              "<Figure size 1080x360 with 1 Axes>"
            ]
          },
          "metadata": {
            "needs_background": "light"
          }
        }
      ]
    },
    {
      "cell_type": "code",
      "metadata": {
        "colab": {
          "base_uri": "https://localhost:8080/",
          "height": 456
        },
        "id": "SwOVfcgthPpk",
        "outputId": "0aa65f19-0cc4-435e-cc71-22550bd9f7e3"
      },
      "source": [
        "sales_data.groupby(['Month']).sum().astype('int')"
      ],
      "execution_count": 55,
      "outputs": [
        {
          "output_type": "execute_result",
          "data": {
            "text/html": [
              "<div>\n",
              "<style scoped>\n",
              "    .dataframe tbody tr th:only-of-type {\n",
              "        vertical-align: middle;\n",
              "    }\n",
              "\n",
              "    .dataframe tbody tr th {\n",
              "        vertical-align: top;\n",
              "    }\n",
              "\n",
              "    .dataframe thead th {\n",
              "        text-align: right;\n",
              "    }\n",
              "</style>\n",
              "<table border=\"1\" class=\"dataframe\">\n",
              "  <thead>\n",
              "    <tr style=\"text-align: right;\">\n",
              "      <th></th>\n",
              "      <th>Quantity Ordered</th>\n",
              "      <th>Price Each</th>\n",
              "      <th>Year</th>\n",
              "      <th>Hour</th>\n",
              "      <th>Minute</th>\n",
              "      <th>Sales</th>\n",
              "    </tr>\n",
              "    <tr>\n",
              "      <th>Month</th>\n",
              "      <th></th>\n",
              "      <th></th>\n",
              "      <th></th>\n",
              "      <th></th>\n",
              "      <th></th>\n",
              "      <th></th>\n",
              "    </tr>\n",
              "  </thead>\n",
              "  <tbody>\n",
              "    <tr>\n",
              "      <th>1</th>\n",
              "      <td>10903</td>\n",
              "      <td>1811768</td>\n",
              "      <td>19602505</td>\n",
              "      <td>139485</td>\n",
              "      <td>282440</td>\n",
              "      <td>1822256</td>\n",
              "    </tr>\n",
              "    <tr>\n",
              "      <th>2</th>\n",
              "      <td>13449</td>\n",
              "      <td>2188884</td>\n",
              "      <td>24177525</td>\n",
              "      <td>172669</td>\n",
              "      <td>354885</td>\n",
              "      <td>2202022</td>\n",
              "    </tr>\n",
              "    <tr>\n",
              "      <th>3</th>\n",
              "      <td>17005</td>\n",
              "      <td>2791207</td>\n",
              "      <td>30593907</td>\n",
              "      <td>218969</td>\n",
              "      <td>447559</td>\n",
              "      <td>2807100</td>\n",
              "    </tr>\n",
              "    <tr>\n",
              "      <th>4</th>\n",
              "      <td>20558</td>\n",
              "      <td>3367671</td>\n",
              "      <td>36905301</td>\n",
              "      <td>262259</td>\n",
              "      <td>544186</td>\n",
              "      <td>3390670</td>\n",
              "    </tr>\n",
              "    <tr>\n",
              "      <th>5</th>\n",
              "      <td>18667</td>\n",
              "      <td>3135125</td>\n",
              "      <td>33446754</td>\n",
              "      <td>238780</td>\n",
              "      <td>487899</td>\n",
              "      <td>3152606</td>\n",
              "    </tr>\n",
              "    <tr>\n",
              "      <th>6</th>\n",
              "      <td>15253</td>\n",
              "      <td>2562025</td>\n",
              "      <td>27365526</td>\n",
              "      <td>195528</td>\n",
              "      <td>402436</td>\n",
              "      <td>2577802</td>\n",
              "    </tr>\n",
              "    <tr>\n",
              "      <th>7</th>\n",
              "      <td>16072</td>\n",
              "      <td>2632539</td>\n",
              "      <td>28857567</td>\n",
              "      <td>206169</td>\n",
              "      <td>417349</td>\n",
              "      <td>2647775</td>\n",
              "    </tr>\n",
              "    <tr>\n",
              "      <th>8</th>\n",
              "      <td>13448</td>\n",
              "      <td>2230345</td>\n",
              "      <td>24149259</td>\n",
              "      <td>172289</td>\n",
              "      <td>353857</td>\n",
              "      <td>2244467</td>\n",
              "    </tr>\n",
              "    <tr>\n",
              "      <th>9</th>\n",
              "      <td>13109</td>\n",
              "      <td>2084992</td>\n",
              "      <td>23462799</td>\n",
              "      <td>168513</td>\n",
              "      <td>341698</td>\n",
              "      <td>2097560</td>\n",
              "    </tr>\n",
              "    <tr>\n",
              "      <th>10</th>\n",
              "      <td>22703</td>\n",
              "      <td>3715554</td>\n",
              "      <td>40949358</td>\n",
              "      <td>290650</td>\n",
              "      <td>598437</td>\n",
              "      <td>3736726</td>\n",
              "    </tr>\n",
              "    <tr>\n",
              "      <th>11</th>\n",
              "      <td>19798</td>\n",
              "      <td>3180600</td>\n",
              "      <td>35479887</td>\n",
              "      <td>254865</td>\n",
              "      <td>518231</td>\n",
              "      <td>3199603</td>\n",
              "    </tr>\n",
              "    <tr>\n",
              "      <th>12</th>\n",
              "      <td>28114</td>\n",
              "      <td>4588415</td>\n",
              "      <td>50442696</td>\n",
              "      <td>359978</td>\n",
              "      <td>733082</td>\n",
              "      <td>4613443</td>\n",
              "    </tr>\n",
              "  </tbody>\n",
              "</table>\n",
              "</div>"
            ],
            "text/plain": [
              "       Quantity Ordered  Price Each      Year    Hour  Minute    Sales\n",
              "Month                                                                 \n",
              "1                 10903     1811768  19602505  139485  282440  1822256\n",
              "2                 13449     2188884  24177525  172669  354885  2202022\n",
              "3                 17005     2791207  30593907  218969  447559  2807100\n",
              "4                 20558     3367671  36905301  262259  544186  3390670\n",
              "5                 18667     3135125  33446754  238780  487899  3152606\n",
              "6                 15253     2562025  27365526  195528  402436  2577802\n",
              "7                 16072     2632539  28857567  206169  417349  2647775\n",
              "8                 13448     2230345  24149259  172289  353857  2244467\n",
              "9                 13109     2084992  23462799  168513  341698  2097560\n",
              "10                22703     3715554  40949358  290650  598437  3736726\n",
              "11                19798     3180600  35479887  254865  518231  3199603\n",
              "12                28114     4588415  50442696  359978  733082  4613443"
            ]
          },
          "metadata": {},
          "execution_count": 55
        }
      ]
    },
    {
      "cell_type": "markdown",
      "metadata": {
        "id": "YnKiHtpkifId"
      },
      "source": [
        "**What time should we display adverstisement to maximize likelihood of customer's buying product?**"
      ]
    },
    {
      "cell_type": "code",
      "metadata": {
        "colab": {
          "base_uri": "https://localhost:8080/",
          "height": 350
        },
        "id": "mAJS9d0yjZTE",
        "outputId": "2cd5e5e4-ca3a-4c3a-ae3c-a39519539504"
      },
      "source": [
        "hours = [hour for hour, df in sales_data.groupby('Hour')]\n",
        "plt.figure(figsize=(15, 5)) \n",
        "plt.plot(hours, sales_data.groupby(['Hour']).count())\n",
        "plt.xticks(hours)\n",
        "plt.grid(True)\n",
        "plt.title('Waktu Pelanggan Membeli Produk', \n",
        "    fontname='monospace', weight='bold'\n",
        ")\n",
        "plt.xlabel('Waktu')\n",
        "plt.ylabel('Jumlah Pembelian');"
      ],
      "execution_count": 56,
      "outputs": [
        {
          "output_type": "display_data",
          "data": {
            "image/png": "[encoded data removed]",
            "text/plain": [
              "<Figure size 1080x360 with 1 Axes>"
            ]
          },
          "metadata": {
            "needs_background": "light"
          }
        }
      ]
    },
    {
      "cell_type": "markdown",
      "metadata": {
        "id": "L7BrEIIlXtI2"
      },
      "source": [
        "**What product sold the most?**"
      ]
    },
    {
      "cell_type": "code",
      "metadata": {
        "colab": {
          "base_uri": "https://localhost:8080/",
          "height": 478
        },
        "id": "Z-mkYBwNXt4c",
        "outputId": "bafb8f27-99e1-4344-ddab-e4aa7cccb8f8"
      },
      "source": [
        "product_group = sales_data.groupby('Product')\n",
        "quantity_ordered = product_group.sum()['Quantity Ordered']\n",
        "prices = sales_data.groupby('Product').mean()['Price Each']\n",
        "products = [product for product, df in product_group]\n",
        "fig, ax1 = plt.subplots(figsize=(15, 5))\n",
        "ax2 = ax1.twinx()\n",
        "ax1.bar(products, quantity_ordered)\n",
        "ax1.set_xlabel('Nama Produk')\n",
        "ax1.set_ylabel('Quantity Ordered', color='b')\n",
        "ax1.set_xticklabels(products, rotation='vertical');"
      ],
      "execution_count": 57,
      "outputs": [
        {
          "output_type": "display_data",
          "data": {
            "image/png": "[encoded data removed]",
            "text/plain": [
              "<Figure size 1080x360 with 2 Axes>"
            ]
          },
          "metadata": {
            "needs_background": "light"
          }
        }
      ]
    },
    {
      "cell_type": "code",
      "metadata": {
        "colab": {
          "base_uri": "https://localhost:8080/"
        },
        "id": "uDy1iDlUewvz",
        "outputId": "6f43f3aa-88f6-48d3-b199-7e009575e9f2"
      },
      "source": [
        "sales_data.Product.value_counts()"
      ],
      "execution_count": 58,
      "outputs": [
        {
          "output_type": "execute_result",
          "data": {
            "text/plain": [
              "USB-C Charging Cable          21903\n",
              "Lightning Charging Cable      21658\n",
              "AAA Batteries (4-pack)        20641\n",
              "AA Batteries (4-pack)         20577\n",
              "Wired Headphones              18882\n",
              "Apple Airpods Headphones      15549\n",
              "Bose SoundSport Headphones    13325\n",
              "27in FHD Monitor               7507\n",
              "iPhone                         6842\n",
              "27in 4K Gaming Monitor         6230\n",
              "34in Ultrawide Monitor         6181\n",
              "Google Phone                   5525\n",
              "Flatscreen TV                  4800\n",
              "Macbook Pro Laptop             4724\n",
              "ThinkPad Laptop                4128\n",
              "20in Monitor                   4101\n",
              "Vareebadd Phone                2065\n",
              "LG Washing Machine              666\n",
              "LG Dryer                        646\n",
              "Name: Product, dtype: int64"
            ]
          },
          "metadata": {},
          "execution_count": 58
        }
      ]
    }
  ]
}